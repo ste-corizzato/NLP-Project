{
  "nbformat": 4,
  "nbformat_minor": 0,
  "metadata": {
    "colab": {
      "provenance": [],
      "collapsed_sections": [
        "_eT1LWXwjuR6",
        "5HmjZ6O4jyUa",
        "pLgagXktlA6x"
      ],
      "authorship_tag": "ABX9TyOL83dzfVqhEtF9elh+xLOR",
      "include_colab_link": true
    },
    "kernelspec": {
      "name": "python3",
      "display_name": "Python 3"
    },
    "language_info": {
      "name": "python"
    }
  },
  "cells": [
    {
      "cell_type": "markdown",
      "metadata": {
        "id": "view-in-github",
        "colab_type": "text"
      },
      "source": [
        "<a href=\"https://colab.research.google.com/github/ste-corizzato/NLP-Project/blob/main/Database.ipynb\" target=\"_parent\"><img src=\"https://colab.research.google.com/assets/colab-badge.svg\" alt=\"Open In Colab\"/></a>"
      ]
    },
    {
      "cell_type": "markdown",
      "source": [
        "**Dataset:**\n",
        "\n",
        "* Controllo Dataset\n",
        "* Elimino campi inutili\n",
        "* Ordino per rating\n",
        "* Check che ci siano tutti i campi che mi interessano\n",
        "* Pulizia singoli campi\n",
        "\n",
        "Preso da Kaggle: https://www.kaggle.com/datasets/irkaal/foodcom-recipes-and-reviews"
      ],
      "metadata": {
        "id": "cXCF-mlojMUQ"
      }
    },
    {
      "cell_type": "code",
      "execution_count": null,
      "metadata": {
        "id": "1Qv2Q3oGjEZD"
      },
      "outputs": [],
      "source": [
        "from google.colab import drive\n",
        "import pandas as pd"
      ]
    },
    {
      "cell_type": "markdown",
      "source": [
        "## Download Dataset"
      ],
      "metadata": {
        "id": "_eT1LWXwjuR6"
      }
    },
    {
      "cell_type": "code",
      "execution_count": null,
      "metadata": {
        "colab": {
          "base_uri": "https://localhost:8080/"
        },
        "id": "KBTe3oyxdtCQ",
        "outputId": "f806d495-4c34-4934-caa3-a1fae10fdcba"
      },
      "outputs": [
        {
          "name": "stdout",
          "output_type": "stream",
          "text": [
            "Requirement already satisfied: kaggle in /usr/local/lib/python3.11/dist-packages (1.6.17)\n",
            "Requirement already satisfied: six>=1.10 in /usr/local/lib/python3.11/dist-packages (from kaggle) (1.17.0)\n",
            "Requirement already satisfied: certifi>=2023.7.22 in /usr/local/lib/python3.11/dist-packages (from kaggle) (2024.12.14)\n",
            "Requirement already satisfied: python-dateutil in /usr/local/lib/python3.11/dist-packages (from kaggle) (2.8.2)\n",
            "Requirement already satisfied: requests in /usr/local/lib/python3.11/dist-packages (from kaggle) (2.32.3)\n",
            "Requirement already satisfied: tqdm in /usr/local/lib/python3.11/dist-packages (from kaggle) (4.67.1)\n",
            "Requirement already satisfied: python-slugify in /usr/local/lib/python3.11/dist-packages (from kaggle) (8.0.4)\n",
            "Requirement already satisfied: urllib3 in /usr/local/lib/python3.11/dist-packages (from kaggle) (2.3.0)\n",
            "Requirement already satisfied: bleach in /usr/local/lib/python3.11/dist-packages (from kaggle) (6.2.0)\n",
            "Requirement already satisfied: webencodings in /usr/local/lib/python3.11/dist-packages (from bleach->kaggle) (0.5.1)\n",
            "Requirement already satisfied: text-unidecode>=1.3 in /usr/local/lib/python3.11/dist-packages (from python-slugify->kaggle) (1.3)\n",
            "Requirement already satisfied: charset-normalizer<4,>=2 in /usr/local/lib/python3.11/dist-packages (from requests->kaggle) (3.4.1)\n",
            "Requirement already satisfied: idna<4,>=2.5 in /usr/local/lib/python3.11/dist-packages (from requests->kaggle) (3.10)\n"
          ]
        }
      ],
      "source": [
        "! pip install kaggle"
      ]
    },
    {
      "cell_type": "code",
      "execution_count": null,
      "metadata": {
        "id": "CuXL3EURa8al"
      },
      "outputs": [],
      "source": [
        "gdrive_dir = '/content/gdrive/'\n",
        "data_dir = os.path.join(gdrive_dir, \"My Drive\",\"NLP\",\"Project(P2)\")"
      ]
    },
    {
      "cell_type": "code",
      "execution_count": null,
      "metadata": {
        "colab": {
          "base_uri": "https://localhost:8080/"
        },
        "id": "Sc2sDLFveQ13",
        "outputId": "60e5a92b-1847-4195-b1f2-513ad64e7615"
      },
      "outputs": [
        {
          "name": "stdout",
          "output_type": "stream",
          "text": [
            "Mounted at /content/gdrive/\n"
          ]
        }
      ],
      "source": [
        "drive.mount(gdrive_dir)"
      ]
    },
    {
      "cell_type": "code",
      "execution_count": null,
      "metadata": {
        "id": "l4D2Jmeue3DT"
      },
      "outputs": [],
      "source": [
        "! mkdir ~/.kaggle"
      ]
    },
    {
      "cell_type": "code",
      "execution_count": null,
      "metadata": {
        "id": "4XIzE-26fMWl"
      },
      "outputs": [],
      "source": [
        "!cp /content/gdrive/MyDrive/kaggle.json ~/.kaggle/kaggle.json"
      ]
    },
    {
      "cell_type": "code",
      "execution_count": null,
      "metadata": {
        "id": "E28Uo0sqfbUJ"
      },
      "outputs": [],
      "source": [
        "! chmod 600 ~/.kaggle/kaggle.json"
      ]
    },
    {
      "cell_type": "code",
      "execution_count": null,
      "metadata": {
        "colab": {
          "base_uri": "https://localhost:8080/"
        },
        "id": "KSgLiy3Ofkw5",
        "outputId": "565b59e8-6911-43c7-ac14-91614f63377c"
      },
      "outputs": [
        {
          "name": "stdout",
          "output_type": "stream",
          "text": [
            "Dataset URL: https://www.kaggle.com/datasets/irkaal/foodcom-recipes-and-reviews\n",
            "License(s): CC0-1.0\n",
            "Downloading foodcom-recipes-and-reviews.zip to /content\n",
            " 99% 713M/723M [00:11<00:00, 66.8MB/s]\n",
            "100% 723M/723M [00:11<00:00, 66.4MB/s]\n"
          ]
        }
      ],
      "source": [
        "! kaggle datasets download irkaal/foodcom-recipes-and-reviews"
      ]
    },
    {
      "cell_type": "code",
      "execution_count": null,
      "metadata": {
        "colab": {
          "base_uri": "https://localhost:8080/"
        },
        "id": "dB7zAgBJgCSr",
        "outputId": "af5c948c-845e-48b7-f927-45acab91b6ad"
      },
      "outputs": [
        {
          "name": "stdout",
          "output_type": "stream",
          "text": [
            "Archive:  foodcom-recipes-and-reviews.zip\n",
            "  inflating: recipes.csv             \n",
            "  inflating: recipes.parquet         \n",
            "  inflating: reviews.csv             \n",
            "  inflating: reviews.parquet         \n"
          ]
        }
      ],
      "source": [
        "! unzip foodcom-recipes-and-reviews.zip"
      ]
    },
    {
      "cell_type": "code",
      "execution_count": null,
      "metadata": {
        "id": "7jm9wb6hhzji"
      },
      "outputs": [],
      "source": [
        "df_recipes = pd.read_parquet(\"recipes.parquet\")"
      ]
    },
    {
      "cell_type": "markdown",
      "source": [
        "##Cleaning"
      ],
      "metadata": {
        "id": "5HmjZ6O4jyUa"
      }
    },
    {
      "cell_type": "code",
      "execution_count": null,
      "metadata": {
        "colab": {
          "base_uri": "https://localhost:8080/"
        },
        "id": "8VG6NpQzkkfy",
        "outputId": "8a3a93ff-8742-4342-e26e-d9ea1bb77d72"
      },
      "outputs": [
        {
          "name": "stdout",
          "output_type": "stream",
          "text": [
            "Low-Fat Berry Blue Frozen Dessert  ----  4.0  ----  None\n",
            "Biryani  ----  6.0  ----  None\n",
            "Best Lemonade  ----  4.0  ----  None\n",
            "Carina's Tofu-Vegetable Kebabs  ----  2.0  ----  4 kebabs\n",
            "Cabbage Soup  ----  4.0  ----  None\n",
            "Best Blackbottom Pie  ----  8.0  ----  1 9-inch pie\n",
            "Warm Chicken A La King  ----  2.0  ----  None\n",
            "Buttermilk Pie With Gingersnap Crumb Crust  ----  8.0  ----  None\n",
            "A Jad - Cucumber Pickle  ----  nan  ----  1 cup\n",
            "Butter Pecan Cookies  ----  nan  ----  84 cookies\n"
          ]
        }
      ],
      "source": [
        "for k,l in df_recipes[:10].iterrows():\n",
        "  print(l['Name'],' ---- ',l['RecipeServings'],' ---- ',l['RecipeYield'])\n",
        "  #RecipeServings indica per quante persone è\n",
        "  #RecipeYield indica la quantità di cibo (1 torta, 4 kebabs, etc)"
      ]
    },
    {
      "cell_type": "code",
      "execution_count": null,
      "metadata": {
        "colab": {
          "base_uri": "https://localhost:8080/"
        },
        "id": "RlsFEyZGh47i",
        "outputId": "46ea08e2-bc2a-4618-e73e-7b395c69fea5"
      },
      "outputs": [
        {
          "name": "stdout",
          "output_type": "stream",
          "text": [
            "522517\n"
          ]
        }
      ],
      "source": [
        "print(len(df_recipes))"
      ]
    },
    {
      "cell_type": "markdown",
      "metadata": {
        "id": "2XYrIIrFFf95"
      },
      "source": [
        "**The recipe dataset is made up of 500,000 records with 28 fields.**\n",
        "\n",
        "Tengo: 'RecipeId', 'RecipeIngredientParts', 'AggregatedRating', 'ReviewCount', 'RecipeInstructions'"
      ]
    },
    {
      "cell_type": "code",
      "execution_count": null,
      "metadata": {
        "id": "oNxrCIVylS1H"
      },
      "outputs": [],
      "source": [
        "df_recipes_clean = df_recipes[['RecipeId','RecipeIngredientParts','AggregatedRating','ReviewCount','RecipeInstructions']].copy()"
      ]
    },
    {
      "cell_type": "code",
      "execution_count": null,
      "metadata": {
        "colab": {
          "base_uri": "https://localhost:8080/"
        },
        "id": "okQu7XEIm9zZ",
        "outputId": "7f2e683a-a14b-4703-b83f-68d3566af670"
      },
      "outputs": [
        {
          "name": "stdout",
          "output_type": "stream",
          "text": [
            "RecipeId                                                              38.0\n",
            "RecipeIngredientParts    [blueberries, granulated sugar, vanilla yogurt...\n",
            "AggregatedRating                                                       4.5\n",
            "ReviewCount                                                            4.0\n",
            "RecipeInstructions       [Toss 2 cups berries with sugar., Let stand fo...\n",
            "Name: 0, dtype: object\n",
            "RecipeId                                                              39.0\n",
            "RecipeIngredientParts    [saffron, milk, hot green chili peppers, onion...\n",
            "AggregatedRating                                                       3.0\n",
            "ReviewCount                                                            1.0\n",
            "RecipeInstructions       [Soak saffron in warm milk for 5 minutes and p...\n",
            "Name: 1, dtype: object\n"
          ]
        }
      ],
      "source": [
        "for col, j in df_recipes_clean[:2].iterrows():\n",
        "  print(j)"
      ]
    },
    {
      "cell_type": "code",
      "execution_count": null,
      "metadata": {
        "id": "tpHxiOulvCuV"
      },
      "outputs": [],
      "source": [
        "#I wanna use only the 100'000 best recipes --> i select the recipes with more than 1 ReviewCount and then i order them by AggregateRating\n",
        "df_rcp_filtered = df_recipes_clean[df_recipes_clean['ReviewCount'] > 1].copy()"
      ]
    },
    {
      "cell_type": "code",
      "execution_count": null,
      "metadata": {
        "colab": {
          "base_uri": "https://localhost:8080/"
        },
        "id": "S_Cn-FmfBXHY",
        "outputId": "07733313-b1e3-4573-cb71-a4ed6712099e"
      },
      "outputs": [
        {
          "data": {
            "text/plain": [
              "167973"
            ]
          },
          "execution_count": 21,
          "metadata": {},
          "output_type": "execute_result"
        }
      ],
      "source": [
        "len(df_rcp_filtered)"
      ]
    },
    {
      "cell_type": "code",
      "execution_count": null,
      "metadata": {
        "id": "GrIPuBVVCfoY"
      },
      "outputs": [],
      "source": [
        "#I have to check if the fields \"RecipeIngredientParts\" and \"RecipeInstructions\" are filled\n",
        "\n",
        "df_rcp_filtered = df_rcp_filtered[df_rcp_filtered['RecipeIngredientParts'].str.len() > 0].copy()\n",
        "df_rcp_filtered = df_rcp_filtered[df_rcp_filtered['RecipeInstructions'].str.len() > 0].copy()"
      ]
    },
    {
      "cell_type": "code",
      "execution_count": null,
      "metadata": {
        "colab": {
          "base_uri": "https://localhost:8080/"
        },
        "id": "LXQRgXpVBZ09",
        "outputId": "85914293-481b-4ee9-bc8c-6e45706ccad3"
      },
      "outputs": [
        {
          "data": {
            "text/plain": [
              "167302"
            ]
          },
          "execution_count": 35,
          "metadata": {},
          "output_type": "execute_result"
        }
      ],
      "source": [
        "len(df_rcp_filtered)"
      ]
    },
    {
      "cell_type": "code",
      "execution_count": null,
      "metadata": {
        "id": "dGDOt4Kmvarb"
      },
      "outputs": [],
      "source": [
        "#ordino per Rating e numero di Review\n",
        "df_rcp_filtered = df_rcp_filtered.sort_values(by=['AggregatedRating', 'ReviewCount'], ascending=False)"
      ]
    },
    {
      "cell_type": "code",
      "execution_count": null,
      "metadata": {
        "id": "HNETAW4fwqbf"
      },
      "outputs": [],
      "source": [
        "df_final = df_rcp_filtered[:100000]"
      ]
    },
    {
      "cell_type": "markdown",
      "source": [
        "## Fields Cleaning"
      ],
      "metadata": {
        "id": "pLgagXktlA6x"
      }
    },
    {
      "cell_type": "code",
      "execution_count": null,
      "metadata": {
        "colab": {
          "base_uri": "https://localhost:8080/"
        },
        "id": "VPnVNJ_iY2mU",
        "outputId": "e7f191e4-c93f-4be9-9d90-4cf68e35705f"
      },
      "outputs": [
        {
          "data": {
            "text/plain": [
              "array(['butter', 'granulated sugar', 'eggs', 'bananas',\n",
              "       'all-purpose flour', 'baking soda', 'salt', 'vanilla'],\n",
              "      dtype=object)"
            ]
          },
          "execution_count": 41,
          "metadata": {},
          "output_type": "execute_result"
        }
      ],
      "source": [
        "df_final.iloc[1]['RecipeIngredientParts']\n",
        "\n",
        "#è un array per questo mi sbagliava quando univo ingredienti e istruzione"
      ]
    },
    {
      "cell_type": "code",
      "execution_count": null,
      "metadata": {
        "colab": {
          "base_uri": "https://localhost:8080/"
        },
        "id": "d8UpN2HVZJKG",
        "outputId": "28184552-0746-4dbd-eaa5-c1cf5f608611"
      },
      "outputs": [
        {
          "name": "stderr",
          "output_type": "stream",
          "text": [
            "<ipython-input-42-22d64c9a1138>:1: SettingWithCopyWarning: \n",
            "A value is trying to be set on a copy of a slice from a DataFrame.\n",
            "Try using .loc[row_indexer,col_indexer] = value instead\n",
            "\n",
            "See the caveats in the documentation: https://pandas.pydata.org/pandas-docs/stable/user_guide/indexing.html#returning-a-view-versus-a-copy\n",
            "  df_final['RecipeIngredientParts'] = df_final['RecipeIngredientParts'].apply(lambda x: ', '.join(x))\n"
          ]
        }
      ],
      "source": [
        "df_final['RecipeIngredientParts'] = df_final['RecipeIngredientParts'].apply(lambda x: ', '.join(x))"
      ]
    },
    {
      "cell_type": "code",
      "execution_count": null,
      "metadata": {
        "colab": {
          "base_uri": "https://localhost:8080/"
        },
        "id": "RKgN3zGtZI6h",
        "outputId": "7c38dca8-c8ee-4645-e9df-8cd763e24154"
      },
      "outputs": [
        {
          "name": "stderr",
          "output_type": "stream",
          "text": [
            "<ipython-input-43-e95d136f619e>:1: SettingWithCopyWarning: \n",
            "A value is trying to be set on a copy of a slice from a DataFrame.\n",
            "Try using .loc[row_indexer,col_indexer] = value instead\n",
            "\n",
            "See the caveats in the documentation: https://pandas.pydata.org/pandas-docs/stable/user_guide/indexing.html#returning-a-view-versus-a-copy\n",
            "  df_final['RecipeInstructions'] = df_final['RecipeInstructions'].apply(lambda x: ', '.join(x))\n"
          ]
        }
      ],
      "source": [
        "df_final['RecipeInstructions'] = df_final['RecipeInstructions'].apply(lambda x: ', '.join(x))"
      ]
    },
    {
      "cell_type": "code",
      "execution_count": null,
      "metadata": {
        "colab": {
          "base_uri": "https://localhost:8080/",
          "height": 70
        },
        "id": "tHg-QvTbZpUp",
        "outputId": "5c6d33c9-78c9-44d9-dc1c-859bdf5f525e"
      },
      "outputs": [
        {
          "data": {
            "application/vnd.google.colaboratory.intrinsic+json": {
              "type": "string"
            },
            "text/plain": [
              "'Remove odd pots and pans from oven., Preheat oven to 350º / 180º., Cream together butter and sugar., Add eggs and crushed bananas., Combine well., Sift together flour, soda and salt. Add to creamed mixture. Add vanilla., Mix just until combined. Do not overmix., Pour into greased and floured loaf pan., Bake at 350º / 180º for 55 minutes., Keeps well, refrigerated.'"
            ]
          },
          "execution_count": 44,
          "metadata": {},
          "output_type": "execute_result"
        }
      ],
      "source": [
        "df_final.iloc[1]['RecipeInstructions']"
      ]
    },
    {
      "cell_type": "code",
      "execution_count": null,
      "metadata": {
        "id": "HezYmAnOD7t-"
      },
      "outputs": [],
      "source": [
        "df_lil_final = df_final[:10000]\n",
        "df_medium_final = df_final[:20000]"
      ]
    },
    {
      "cell_type": "code",
      "execution_count": null,
      "metadata": {
        "id": "QjZt5AV3yp2-"
      },
      "outputs": [],
      "source": [
        "df_final.to_csv('/content/gdrive/MyDrive/NLP/Project(P2)/df_final.csv')\n",
        "df_lil_final.to_csv('/content/gdrive/MyDrive/NLP/Project(P2)/df_lil_final.csv')\n",
        "df_medium_final.to_csv('/content/gdrive/MyDrive/NLP/Project(P2)/df_medium_final.csv')"
      ]
    }
  ]
}